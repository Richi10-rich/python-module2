{
  "nbformat": 4,
  "nbformat_minor": 0,
  "metadata": {
    "colab": {
      "provenance": []
    },
    "kernelspec": {
      "name": "python3",
      "display_name": "Python 3"
    },
    "language_info": {
      "name": "python"
    }
  },
  "cells": [
    {
      "cell_type": "code",
      "execution_count": null,
      "metadata": {
        "id": "2CN_Mkr-A5gq"
      },
      "outputs": [],
      "source": []
    },
    {
      "cell_type": "markdown",
      "source": [
        "# MODULE 2\n",
        "*italicized text*"
      ],
      "metadata": {
        "id": "gDZt12ZDBGC8"
      }
    },
    {
      "cell_type": "markdown",
      "source": [
        "1. What is Python, and why is it popular ?\n",
        "  - Python is a general-purpose programming language that's popular because it's versatile, flexible, and beginner-friendly.\n",
        "  It's used for a wide range of applications,including:\n",
        "  web development, machine learning, data science, etc.\n",
        "\n",
        "2. What is an interpreter in Python ?\n",
        "   - A python interpreter is a computer program that translate python code into\n",
        "   machine code so that computer can understand it.\n",
        "\n",
        "3. What are pre-defined keywords in Python?\n",
        "   - Pre-defined keywords in python are reserved words used in python programming that have special meaning and cannot be used as identifiers like variable names or functions name.\n",
        "\n",
        "4. Can keywords be used as variable names?\n",
        "   - No\n",
        "\n",
        "5. What is mutability in Python?\n",
        "   - Mutability refers to the ability of an object to be changed after it created example - lists, sets, dictionery etc.\n",
        "\n",
        "6. Why are lists mutable, but tuples are immutable ?\n",
        "   - The main difference between tuples and lists is that tuples are immutable, meaning their contents cannot be changed after creation, while lists are mutable and can be modified. Additionally, tuples are more memory-efficient compared to lists.\n",
        "\n",
        "7. What is the difference between “==” and “is” operators in Python?\n",
        "   - '==' operator:\n",
        "Checks for equality: This operator compares the values of two objects to see if they are equal.\n",
        "Example:\n",
        "Python\n",
        "   a = [1, 2, 3]\n",
        "   b = [1, 2, 3]\n",
        "   print(a == b)  # Output: True (values are the same)\n",
        "'is' operator:\n",
        "Checks for identity: This operator compares the memory addresses of two objects to determine if they are the same object.\n",
        "Example:\n",
        "Python\n",
        "   a = [1, 2, 3]\n",
        "   b = a\n",
        "   print(a is b)  # Output: True (both variables reference the same object)\n",
        "\n",
        "8. What are logical operators in Python ?\n",
        "   - Logical operators in Python are used to combine conditional statements. They allow you to create more complex conditions by evaluating multiple expressions. The three logical operators are:\n",
        "and: Returns True if both statements are true.\n",
        "or: Returns True if at least one of the statements is true.\n",
        "not: Reverses the result, returns False if the result is true.\n",
        "\n",
        "9. what is type casting in python?\n",
        "   - Type casting in Python, also known as type conversion, is the process of converting a value from one data type to another.\n",
        "\n",
        "10. What is the difference between implicit and explicit type casting?\n",
        "    - The main difference between implicit and explicit type casting is that implicit type casting is automatic, while explicit type casting is manual.\n",
        "\n",
        "11. What is the purpose of conditional statements in Python?\n",
        "    - Conditional statements in Python allow you to control the flow of your program based on certain conditions.\n",
        "\n",
        " 12. How does the elif statement work?\n",
        "     - The “elif” keyword in Python, stands for “else if”. It can be used in conditional statements to check for multiple conditions. For example, if the first condition is false, it moves on to the next “elif” statement to check if that condition is true.\n",
        "\n",
        "13. What is the difference between for and while loops?\n",
        "     - The main difference between a for loop and a while loop is that a for loop is used when the number of iterations is known in advance, while a while loop is used when the number of iterations is unknown.\n",
        "\n",
        "14. Describe a scenario where a while loop is more suitable than a for loop.\n",
        "    - In general a while loop is used if you want an action to repeat itself until a certain condition is met i.e. if statement. An for loop is used when you want to iterate through an object. i.e. iterate through an array.\n",
        "\n",
        "     \n",
        "\n",
        "\n",
        "   \n",
        "    \n",
        "     \n",
        "           \n",
        "\n",
        "\n",
        "    \n",
        "   \n",
        "\n",
        "\n"
      ],
      "metadata": {
        "id": "J91q6c-VBj7G"
      }
    },
    {
      "cell_type": "code",
      "source": [
        "# 1. Write a Python program to print \"Hello, World!\n",
        "print(\"Hello world!\")"
      ],
      "metadata": {
        "colab": {
          "base_uri": "https://localhost:8080/"
        },
        "id": "qmQIaLGqJrvV",
        "outputId": "f975949d-3e07-4868-d745-6dd440e40419"
      },
      "execution_count": null,
      "outputs": [
        {
          "output_type": "stream",
          "name": "stdout",
          "text": [
            "Hello world!\n"
          ]
        }
      ]
    },
    {
      "cell_type": "markdown",
      "source": [],
      "metadata": {
        "id": "0WA-gEPJU4zD"
      }
    },
    {
      "cell_type": "code",
      "source": [
        "# 2. Write a Python program that displays your name and age\n",
        "name = input(\"enter name \")\n",
        "age= int(input(\"enter age \"))\n",
        "print(name)\n",
        "print(age)\n",
        "type(age)\n",
        "\n"
      ],
      "metadata": {
        "id": "az34sYeRU5gq",
        "colab": {
          "base_uri": "https://localhost:8080/"
        },
        "outputId": "5096cfb9-93d1-4ac6-8e7b-294e89df2510"
      },
      "execution_count": null,
      "outputs": [
        {
          "output_type": "stream",
          "name": "stdout",
          "text": [
            "enter name RICHI\n",
            "enter age 22\n",
            "RICHI\n",
            "22\n"
          ]
        },
        {
          "output_type": "execute_result",
          "data": {
            "text/plain": [
              "int"
            ]
          },
          "metadata": {},
          "execution_count": 8
        }
      ]
    },
    {
      "cell_type": "code",
      "source": [
        "# 3. Write code to print all the pre-defined keywords in Python using the keyword library?\n",
        "import keyword\n",
        "print(keyword.kwlist)\n"
      ],
      "metadata": {
        "id": "Y_YOTLPlcFUk",
        "colab": {
          "base_uri": "https://localhost:8080/"
        },
        "outputId": "777cb407-e842-47aa-ab29-1cacf7a0bf26"
      },
      "execution_count": null,
      "outputs": [
        {
          "output_type": "stream",
          "name": "stdout",
          "text": [
            "['False', 'None', 'True', 'and', 'as', 'assert', 'async', 'await', 'break', 'class', 'continue', 'def', 'del', 'elif', 'else', 'except', 'finally', 'for', 'from', 'global', 'if', 'import', 'in', 'is', 'lambda', 'nonlocal', 'not', 'or', 'pass', 'raise', 'return', 'try', 'while', 'with', 'yield']\n"
          ]
        }
      ]
    },
    {
      "cell_type": "code",
      "source": [
        "# 4.Write a program that checks if a given word is a Python keyword?\n",
        "import keyword\n",
        "\n",
        "def is_keyword(word):\n",
        "  return keyword.iskeyword(word)\n",
        "\n",
        "word = input(\"Enter a word: \")\n",
        "if is_keyword(word):\n",
        "  print(f\"{word} is a Python keyword.\")\n",
        "else:\n",
        "  print(f\"{word} is not a Python keyword.\")\n",
        "\n"
      ],
      "metadata": {
        "id": "aMmV1ac2cdTx",
        "colab": {
          "base_uri": "https://localhost:8080/"
        },
        "outputId": "b5dd08ed-2856-4628-b0cc-18804d074ba3"
      },
      "execution_count": null,
      "outputs": [
        {
          "output_type": "stream",
          "name": "stdout",
          "text": [
            "Enter a word: continue\n",
            "continue is a Python keyword.\n"
          ]
        }
      ]
    },
    {
      "cell_type": "code",
      "source": [
        "# 5.Create a list and tuple in Python, and demonstrate how attempting to change an element works differently for each?\n",
        "List = [1,2.3,4,5+2j,\"Richi\"]\n",
        "List\n"
      ],
      "metadata": {
        "colab": {
          "base_uri": "https://localhost:8080/"
        },
        "id": "Ujtiz4prC_wX",
        "outputId": "f889fd40-6a94-4679-e726-c99357d6a1df"
      },
      "execution_count": null,
      "outputs": [
        {
          "output_type": "execute_result",
          "data": {
            "text/plain": [
              "[1, 2.3, 4, (5+2j), 'Richi']"
            ]
          },
          "metadata": {},
          "execution_count": 30
        }
      ]
    },
    {
      "cell_type": "code",
      "source": [
        "# mutability\n",
        "List[3]"
      ],
      "metadata": {
        "colab": {
          "base_uri": "https://localhost:8080/"
        },
        "id": "khcRCyMONcx-",
        "outputId": "59657014-b430-4cf2-f9c5-0e0a92f84b67"
      },
      "execution_count": null,
      "outputs": [
        {
          "output_type": "execute_result",
          "data": {
            "text/plain": [
              "(5+2j)"
            ]
          },
          "metadata": {},
          "execution_count": 34
        }
      ]
    },
    {
      "cell_type": "code",
      "source": [
        "List[-3]= \"true\"\n",
        "List\n"
      ],
      "metadata": {
        "colab": {
          "base_uri": "https://localhost:8080/"
        },
        "id": "jjEdcyUtOADw",
        "outputId": "c145eea9-5d9a-470e-b49f-a59b1686d128"
      },
      "execution_count": null,
      "outputs": [
        {
          "output_type": "execute_result",
          "data": {
            "text/plain": [
              "[1, 2.3, 'true', (5+2j), 'Richi']"
            ]
          },
          "metadata": {},
          "execution_count": 37
        }
      ]
    },
    {
      "cell_type": "code",
      "source": [
        "my_tuple = (1,2,3,4.4,\"abcd\")\n",
        "my_tuple"
      ],
      "metadata": {
        "colab": {
          "base_uri": "https://localhost:8080/"
        },
        "id": "yXatMJ1wPaKv",
        "outputId": "6268a593-3b1b-49aa-d491-4600750a7036"
      },
      "execution_count": null,
      "outputs": [
        {
          "output_type": "execute_result",
          "data": {
            "text/plain": [
              "(1, 2, 3, 4.4, 'abcd')"
            ]
          },
          "metadata": {},
          "execution_count": 82
        }
      ]
    },
    {
      "cell_type": "code",
      "source": [
        "# immutability\n",
        "my_tuple[0]"
      ],
      "metadata": {
        "colab": {
          "base_uri": "https://localhost:8080/"
        },
        "id": "2ofMyu64RlmR",
        "outputId": "b6ac699e-ce54-4fe3-d635-6cf08e0266aa"
      },
      "execution_count": null,
      "outputs": [
        {
          "output_type": "execute_result",
          "data": {
            "text/plain": [
              "1"
            ]
          },
          "metadata": {},
          "execution_count": 84
        }
      ]
    },
    {
      "cell_type": "code",
      "source": [
        "my_tuple[0] = 5"
      ],
      "metadata": {
        "colab": {
          "base_uri": "https://localhost:8080/",
          "height": 141
        },
        "id": "pom-bgxqnz_i",
        "outputId": "5a412abb-86f4-4232-99a6-6c7cc446bd3e"
      },
      "execution_count": null,
      "outputs": [
        {
          "output_type": "error",
          "ename": "TypeError",
          "evalue": "'tuple' object does not support item assignment",
          "traceback": [
            "\u001b[0;31m---------------------------------------------------------------------------\u001b[0m",
            "\u001b[0;31mTypeError\u001b[0m                                 Traceback (most recent call last)",
            "\u001b[0;32m<ipython-input-87-7202c080a1da>\u001b[0m in \u001b[0;36m<cell line: 1>\u001b[0;34m()\u001b[0m\n\u001b[0;32m----> 1\u001b[0;31m \u001b[0mmy_tuple\u001b[0m\u001b[0;34m[\u001b[0m\u001b[0;36m0\u001b[0m\u001b[0;34m]\u001b[0m \u001b[0;34m=\u001b[0m \u001b[0;36m5\u001b[0m\u001b[0;34m\u001b[0m\u001b[0;34m\u001b[0m\u001b[0m\n\u001b[0m",
            "\u001b[0;31mTypeError\u001b[0m: 'tuple' object does not support item assignment"
          ]
        }
      ]
    },
    {
      "cell_type": "code",
      "source": [
        "# 6/7. Write a function to demonstrate the behavior of mutable and immutable arguments?\n",
        "# mutable arguments (list)\n",
        "List = [1,2.3,4,5+2j,\"Richi\"]\n",
        "List"
      ],
      "metadata": {
        "colab": {
          "base_uri": "https://localhost:8080/"
        },
        "id": "wCYrgcvvfS60",
        "outputId": "2df01685-f672-4ebe-8949-277f0c61f611"
      },
      "execution_count": null,
      "outputs": [
        {
          "output_type": "execute_result",
          "data": {
            "text/plain": [
              "[1, 2.3, 4, (5+2j), 'Richi']"
            ]
          },
          "metadata": {},
          "execution_count": 64
        }
      ]
    },
    {
      "cell_type": "code",
      "source": [
        "List[-3]= \"true\"\n",
        "List"
      ],
      "metadata": {
        "colab": {
          "base_uri": "https://localhost:8080/"
        },
        "id": "06-Sx_c5gIH0",
        "outputId": "f218215f-53d5-46d6-c8fe-fe3d3c272faf"
      },
      "execution_count": null,
      "outputs": [
        {
          "output_type": "execute_result",
          "data": {
            "text/plain": [
              "[1, 2.3, 'true', (5+2j), 'Richi']"
            ]
          },
          "metadata": {},
          "execution_count": 65
        }
      ]
    },
    {
      "cell_type": "code",
      "source": [
        "# immutable agreemets (string)\n",
        "b = \"pwskills\"\n",
        "b"
      ],
      "metadata": {
        "colab": {
          "base_uri": "https://localhost:8080/",
          "height": 36
        },
        "id": "Np9n_ZOagRj6",
        "outputId": "fc93a7bc-aa91-441d-c751-817575fbd60e"
      },
      "execution_count": null,
      "outputs": [
        {
          "output_type": "execute_result",
          "data": {
            "text/plain": [
              "'pwskills'"
            ],
            "application/vnd.google.colaboratory.intrinsic+json": {
              "type": "string"
            }
          },
          "metadata": {},
          "execution_count": 66
        }
      ]
    },
    {
      "cell_type": "code",
      "source": [
        "b[0]"
      ],
      "metadata": {
        "colab": {
          "base_uri": "https://localhost:8080/",
          "height": 36
        },
        "id": "a9td2sG2g-KF",
        "outputId": "c6bc8a6b-343c-4371-ac86-d60a5216edf1"
      },
      "execution_count": null,
      "outputs": [
        {
          "output_type": "execute_result",
          "data": {
            "text/plain": [
              "'p'"
            ],
            "application/vnd.google.colaboratory.intrinsic+json": {
              "type": "string"
            }
          },
          "metadata": {},
          "execution_count": 69
        }
      ]
    },
    {
      "cell_type": "code",
      "source": [
        "b[0] = \"i\""
      ],
      "metadata": {
        "colab": {
          "base_uri": "https://localhost:8080/",
          "height": 141
        },
        "id": "1nIphAoJhhTI",
        "outputId": "bc7a1361-d0ff-4372-99a2-8110ad520438"
      },
      "execution_count": null,
      "outputs": [
        {
          "output_type": "error",
          "ename": "TypeError",
          "evalue": "'str' object does not support item assignment",
          "traceback": [
            "\u001b[0;31m---------------------------------------------------------------------------\u001b[0m",
            "\u001b[0;31mTypeError\u001b[0m                                 Traceback (most recent call last)",
            "\u001b[0;32m<ipython-input-71-258ec4a435a4>\u001b[0m in \u001b[0;36m<cell line: 1>\u001b[0;34m()\u001b[0m\n\u001b[0;32m----> 1\u001b[0;31m \u001b[0mb\u001b[0m\u001b[0;34m[\u001b[0m\u001b[0;36m0\u001b[0m\u001b[0;34m]\u001b[0m \u001b[0;34m=\u001b[0m \u001b[0;34m\"i\"\u001b[0m\u001b[0;34m\u001b[0m\u001b[0;34m\u001b[0m\u001b[0m\n\u001b[0m",
            "\u001b[0;31mTypeError\u001b[0m: 'str' object does not support item assignment"
          ]
        }
      ]
    },
    {
      "cell_type": "code",
      "source": [
        "# 8.Write a program to demonstrate the use of logical operators?\n",
        "# Logical AND (&&)\n",
        "x = 5\n",
        "y = 10\n",
        "\n",
        "if x > 0 and y > 0:\n",
        "    print(\"Both x and y are positive\")\n",
        "\n",
        "# Logical OR (||)\n",
        "x = -5\n",
        "y = 10\n",
        "\n",
        "if x > 0 or y > 0:\n",
        "    print(\"At least one of x or y is positive\")\n",
        "\n",
        "# Logical NOT (!)\n",
        "x = 5\n",
        "\n",
        "if not x == 0:\n",
        "    print(\"x is not zero\")\n"
      ],
      "metadata": {
        "colab": {
          "base_uri": "https://localhost:8080/"
        },
        "id": "7NHFL7H1pkjo",
        "outputId": "a9567e4d-a4a6-4012-d4a2-32ce82ee39e0"
      },
      "execution_count": null,
      "outputs": [
        {
          "output_type": "stream",
          "name": "stdout",
          "text": [
            "Both x and y are positive\n",
            "At least one of x or y is positive\n",
            "x is not zero\n"
          ]
        }
      ]
    },
    {
      "cell_type": "code",
      "source": [
        "# 9. Write a Python program to convert user input from string to integer, float, and boolean types?\n",
        "a = \"pwskills\"\n",
        "type(a)\n"
      ],
      "metadata": {
        "colab": {
          "base_uri": "https://localhost:8080/"
        },
        "id": "SYcp1fU-rb_J",
        "outputId": "e96fe8e4-b014-4e31-a7e2-0ab6847daf3a"
      },
      "execution_count": null,
      "outputs": [
        {
          "output_type": "execute_result",
          "data": {
            "text/plain": [
              "str"
            ]
          },
          "metadata": {},
          "execution_count": 99
        }
      ]
    },
    {
      "cell_type": "code",
      "source": [
        "b = int(a) # Character cannot be converted into 'int'and 'float' until and unless it's in numeric form.\n",
        "b = float(a)"
      ],
      "metadata": {
        "colab": {
          "base_uri": "https://localhost:8080/",
          "height": 159
        },
        "id": "qyhT3GQjsqZx",
        "outputId": "536e64fc-0c6d-44be-8387-d6b425959051"
      },
      "execution_count": null,
      "outputs": [
        {
          "output_type": "error",
          "ename": "ValueError",
          "evalue": "invalid literal for int() with base 10: 'pwskills'",
          "traceback": [
            "\u001b[0;31m---------------------------------------------------------------------------\u001b[0m",
            "\u001b[0;31mValueError\u001b[0m                                Traceback (most recent call last)",
            "\u001b[0;32m<ipython-input-100-28165a1d5456>\u001b[0m in \u001b[0;36m<cell line: 1>\u001b[0;34m()\u001b[0m\n\u001b[0;32m----> 1\u001b[0;31m \u001b[0mb\u001b[0m \u001b[0;34m=\u001b[0m \u001b[0mint\u001b[0m\u001b[0;34m(\u001b[0m\u001b[0ma\u001b[0m\u001b[0;34m)\u001b[0m \u001b[0;31m# Character cannot be converted into 'int' until and unless it's in numeric form.\u001b[0m\u001b[0;34m\u001b[0m\u001b[0;34m\u001b[0m\u001b[0m\n\u001b[0m\u001b[1;32m      2\u001b[0m \u001b[0mb\u001b[0m \u001b[0;34m=\u001b[0m \u001b[0mfloat\u001b[0m\u001b[0;34m(\u001b[0m\u001b[0ma\u001b[0m\u001b[0;34m)\u001b[0m\u001b[0;34m\u001b[0m\u001b[0;34m\u001b[0m\u001b[0m\n",
            "\u001b[0;31mValueError\u001b[0m: invalid literal for int() with base 10: 'pwskills'"
          ]
        }
      ]
    },
    {
      "cell_type": "code",
      "source": [
        "# string to int\n",
        "a = \"2\"\n",
        "print(type(a))\n",
        "print(type(int(a)))"
      ],
      "metadata": {
        "colab": {
          "base_uri": "https://localhost:8080/"
        },
        "id": "yn6CWmD76gSk",
        "outputId": "07fbf114-3e27-4cb1-c26f-22aebd621c1c"
      },
      "execution_count": null,
      "outputs": [
        {
          "output_type": "stream",
          "name": "stdout",
          "text": [
            "<class 'str'>\n",
            "<class 'int'>\n"
          ]
        }
      ]
    },
    {
      "cell_type": "code",
      "source": [
        "# string to float\n",
        "a = \"6.5\"\n",
        "print(type(a))\n",
        "print(type(float(a)))"
      ],
      "metadata": {
        "colab": {
          "base_uri": "https://localhost:8080/"
        },
        "id": "x2YQvYLD9bm_",
        "outputId": "f2f788c1-eb6f-49a9-f215-e71fcac1ca8f"
      },
      "execution_count": null,
      "outputs": [
        {
          "output_type": "stream",
          "name": "stdout",
          "text": [
            "<class 'str'>\n",
            "<class 'float'>\n"
          ]
        }
      ]
    },
    {
      "cell_type": "code",
      "source": [
        "# string to boolean\n",
        "a = \"True\"\n",
        "print(type(a))\n",
        "print(type(bool(a)))"
      ],
      "metadata": {
        "colab": {
          "base_uri": "https://localhost:8080/"
        },
        "id": "3uqkVZUp-w7e",
        "outputId": "6f9cf1fc-4e70-4a44-e550-4c7e8883d989"
      },
      "execution_count": null,
      "outputs": [
        {
          "output_type": "stream",
          "name": "stdout",
          "text": [
            "<class 'str'>\n",
            "<class 'bool'>\n"
          ]
        }
      ]
    },
    {
      "cell_type": "code",
      "source": [
        "# 10.Write code to demonstrate type casting with list elements?\n",
        "list = [1,2.5,\"boolean\",\"none\"]\n",
        "list"
      ],
      "metadata": {
        "colab": {
          "base_uri": "https://localhost:8080/"
        },
        "id": "yuB6KQIOAXpV",
        "outputId": "41fa7c90-1951-4ad2-898c-b7d4ba214ca7"
      },
      "execution_count": null,
      "outputs": [
        {
          "output_type": "execute_result",
          "data": {
            "text/plain": [
              "[1, 2.5, 'boolean', 'none']"
            ]
          },
          "metadata": {},
          "execution_count": 110
        }
      ]
    },
    {
      "cell_type": "code",
      "source": [
        "# 11. Write a program that checks if a number is positive, negative, or zero?\n",
        "number = int(input(\"enter a number:\"))\n",
        "if number == 0:\n",
        "  print(\"The number is zero\")\n",
        "elif number >= 0:\n",
        "    print(\"The number is positive\")\n",
        "else:\n",
        "      print(\"The number is negative\")"
      ],
      "metadata": {
        "id": "IPWlLTRxCCxE",
        "colab": {
          "base_uri": "https://localhost:8080/"
        },
        "outputId": "fc5a5db1-d424-48eb-efb9-dda556aa3052"
      },
      "execution_count": null,
      "outputs": [
        {
          "output_type": "stream",
          "name": "stdout",
          "text": [
            "enter a number:5\n",
            "The number is positive\n"
          ]
        }
      ]
    },
    {
      "cell_type": "code",
      "source": [
        "# 12.  Write a for loop to print numbers from 1 to 10\n",
        "for i in range (1,11):\n",
        "  print(i, end =' ')"
      ],
      "metadata": {
        "colab": {
          "base_uri": "https://localhost:8080/"
        },
        "id": "m-9j3gITLo4O",
        "outputId": "4ab0e8cf-4e92-4d52-864a-ab68aa9b2d1b"
      },
      "execution_count": null,
      "outputs": [
        {
          "output_type": "stream",
          "name": "stdout",
          "text": [
            "1 2 3 4 5 6 7 8 9 10 "
          ]
        }
      ]
    },
    {
      "cell_type": "code",
      "source": [
        "# 13. Write a Python program to find the sum of all even numbers between 1 and 50?\n",
        "even_sum = 0\n",
        "for i in range(0,50,2):\n",
        "  even_sum = even_sum+i\n",
        "\n",
        "print(f\"The sum of all the even numbers upto 50 is {even_sum}\")\n",
        "\n"
      ],
      "metadata": {
        "colab": {
          "base_uri": "https://localhost:8080/"
        },
        "id": "N2uvvh3sOAfz",
        "outputId": "5c626dc8-2e0c-4475-aab4-a789cc034dbd"
      },
      "execution_count": null,
      "outputs": [
        {
          "output_type": "stream",
          "name": "stdout",
          "text": [
            "The sum of all the even numbers upto 50 is 600\n"
          ]
        }
      ]
    },
    {
      "cell_type": "code",
      "source": [
        "# 14. Write a program to reverse a string using a while loop?\n",
        "def reverse_string(string):\n",
        "  reversed_string = \"\"\n",
        "  index = len(string) - 1\n",
        "\n",
        "  while index >= 0:\n",
        "    reversed_string += string[index]\n",
        "    index -= 1\n",
        "\n",
        "  return reversed_string\n",
        "\n",
        "original_string = \"Hello, World!\"\n",
        "reversed_string = reverse_string(original_string)\n",
        "\n",
        "print(\"Original String:\", original_string)\n",
        "print(\"Reversed String:\", reversed_string)\n"
      ],
      "metadata": {
        "colab": {
          "base_uri": "https://localhost:8080/"
        },
        "id": "wIamWjW2jTEe",
        "outputId": "0baf08be-26a8-4e37-fdf3-da0366119115"
      },
      "execution_count": null,
      "outputs": [
        {
          "output_type": "stream",
          "name": "stdout",
          "text": [
            "Original String: Hello, World!\n",
            "Reversed String: !dlroW ,olleH\n"
          ]
        }
      ]
    },
    {
      "cell_type": "code",
      "source": [
        "# 15. Write a Python program to calculate the factorial of a number provided by the user using a while loop?\n",
        "# Get input from the user\n",
        "num = int(input(\"Enter a non-negative integer: \"))\n",
        "\n",
        "# Check if the input is valid\n",
        "if num < 0:\n",
        "    print(\"Factorial is not defined for negative numbers.\")\n",
        "else:\n",
        "    # Calculate factorial using a while loop\n",
        "    factorial = 1\n",
        "    while num > 0:\n",
        "        factorial *= num\n",
        "        num -= 1\n",
        "\n",
        "    print(\"The factorial is:\", factorial)\n"
      ],
      "metadata": {
        "colab": {
          "base_uri": "https://localhost:8080/"
        },
        "id": "nHtSMJfVnj-C",
        "outputId": "a713f714-cd9f-4674-8841-82f0350ee735"
      },
      "execution_count": null,
      "outputs": [
        {
          "output_type": "stream",
          "name": "stdout",
          "text": [
            "Enter a non-negative integer: 5\n",
            "The factorial is: 120\n"
          ]
        }
      ]
    }
  ]
}